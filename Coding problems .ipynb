{
 "cells": [
  {
   "cell_type": "markdown",
   "metadata": {},
   "source": [
    "# Question 1 \n",
    "\n",
    "\n",
    "Find the maximum of non-intersecting segments of length 2 (two adjacent elements), such that segments have an equal sum.\n",
    "\n",
    "For ex, given nums = [10, 1, 3, 1, 2, 2, 1, 0, 4], there are three non-overlapping segments, \n",
    "each whose sum is equal to 4: (1, 3), (2, 2), (0, 4).\n",
    "Expected output = 3"
   ]
  },
  {
   "cell_type": "code",
   "execution_count": 7,
   "metadata": {},
   "outputs": [
    {
     "data": {
      "text/plain": [
       "3"
      ]
     },
     "execution_count": 7,
     "metadata": {},
     "output_type": "execute_result"
    }
   ],
   "source": [
    "def getCount(idx, sum, arr):\n",
    "    counter = len(arr)\n",
    "    \n",
    "    if(idx >= counter - 1):\n",
    "        return 0\n",
    "    \n",
    "    count = 0 \n",
    "    if(arr[idx]+ arr[idx+1] == sum):\n",
    "        count = 1 + getCount(idx+2, sum, arr)\n",
    "        \n",
    "    return max(count, getCount(idx+1, sum, arr))\n",
    "\n",
    "\n",
    "def solution(A):\n",
    "    \n",
    "    arr_length = len(A)\n",
    "    ans = 0 \n",
    "    \n",
    "    for i in range(arr_length - 1):\n",
    "        sum = A[i] + A[i+1]\n",
    "        ans = max(ans, 1 + getCount(i+ 2, sum, A))\n",
    "        \n",
    "    return ans\n",
    "        \n",
    "        \n",
    "    \n",
    "    \n",
    "\n",
    "A = [10, 1, 3, 1, 2, 2, 1, 0, 4]\n",
    "\n",
    "solution(A)\n",
    "\n",
    "\n"
   ]
  },
  {
   "cell_type": "markdown",
   "metadata": {},
   "source": [
    "# Question 2 \n",
    "\n",
    "\n",
    "There is a board with 2 rows and N columns, represented by a matrix M. Rows are numbered from 0 to 1 from top to bottom and columns are numbered from 0 to N-1 from\n",
    "left to right. Each cell contains either 0 or a 1. You know that:\n",
    "* the sum of integers in the 0-th(upper) row is equal to U.\n",
    "* the sum of integers in the 1-st(lower) row is equal to L.\n",
    "* the sum of integers in the K-th column is equal to C[K].\n",
    "Your job is to recover M based on this information.\n",
    "Write a function:\n",
    "class Solution { public String solution(int M, int L, int[] C);}\n",
    "that given two integers U, L and an array C of N integers, as described above, return a string describing the matrix M in the following format.\n",
    "The first part of the string should be description of the upper row(N characters: 0 or 1), then there shouldbe comma(,), and finally there should be description of\n",
    "the lower row(N characters: 0 or 1.) The output string should not contain any whitespace.\n",
    "\n",
    "If there exist multiple valid Ms, your function may return any one of them. If no valid M exist, your function should return the word IMPOSSIBLE.\n",
    "Example:\n",
    "\n",
    "Given U = 3, L = 2, C = [2, 1, 1, 0, 1], your function may, for example return 11001, 10100 which described the following format.\n",
    "1 1 0 0 1\n",
    "1 0 1 0 0\n",
    "\n",
    "Given U = 2, L = 3, C = [0, 0, 1, 1, 2], your function should return the word IMPOSSIBLE, because no matrix exist for such conditions."
   ]
  },
  {
   "cell_type": "code",
   "execution_count": 53,
   "metadata": {},
   "outputs": [],
   "source": [
    "# you can write to stdout for debugging purposes, e.g.\n",
    "# print(\"this is a debug message\")\n",
    "U = 3 \n",
    "L = 2 \n",
    "C = [2,1,1,0,1]\n",
    "\n",
    "def solution(U,L,C):\n",
    "    \n",
    "    length = len(C)\n",
    "    list1 = [0]*length\n",
    "    list2 = [0]*length\n",
    "    \n",
    "    count = 0\n",
    "    \n",
    "    for i in range(length):\n",
    "        if(C[i] == 2 ):\n",
    "            list1[i] = 1\n",
    "            list2[i] = 1\n",
    "            U = U - 1 \n",
    "            L = L - 1 \n",
    "        elif(C[i] == 1):\n",
    "            count = count + 1\n",
    "            \n",
    "    if (U < 0 or L < 0 or count != U + L):\n",
    "        return \"IMPOSSIBLE\"\n",
    "    \n",
    "    index = 0 \n",
    "    \n",
    "   \n",
    "    while(U > 0):\n",
    "        if(C[index] == 1):\n",
    "            list1[index] = 1\n",
    "            U = U - 1 \n",
    "        index = index + 1 \n",
    "    while(L > 0):\n",
    "        if(C[index] == 1):\n",
    "            list2[index] = 1 \n",
    "            L = L - 1 \n",
    "        index = index + 1 \n",
    "    \n",
    "    ans_str = \"\"\n",
    "    for c in list1:\n",
    "        ans_str += str(c)\n",
    "    \n",
    "    ans_str += \",\"\n",
    "    for c in list2:\n",
    "        ans_str += str(c)\n",
    "    \n",
    "    return ans_str\n",
    "        "
   ]
  },
  {
   "cell_type": "markdown",
   "metadata": {},
   "source": [
    "# Answer to Question 3 "
   ]
  },
  {
   "cell_type": "code",
   "execution_count": null,
   "metadata": {},
   "outputs": [],
   "source": []
  }
 ],
 "metadata": {
  "kernelspec": {
   "display_name": "Python 3",
   "language": "python",
   "name": "python3"
  },
  "language_info": {
   "codemirror_mode": {
    "name": "ipython",
    "version": 3
   },
   "file_extension": ".py",
   "mimetype": "text/x-python",
   "name": "python",
   "nbconvert_exporter": "python",
   "pygments_lexer": "ipython3",
   "version": "3.8.3"
  }
 },
 "nbformat": 4,
 "nbformat_minor": 4
}
